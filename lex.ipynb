{
  "nbformat": 4,
  "nbformat_minor": 0,
  "metadata": {
    "colab": {
      "provenance": [],
      "authorship_tag": "ABX9TyO1lPZNMrVh5Bb2RFLges5Q",
      "include_colab_link": true
    },
    "kernelspec": {
      "name": "python3",
      "display_name": "Python 3"
    },
    "language_info": {
      "name": "python"
    }
  },
  "cells": [
    {
      "cell_type": "markdown",
      "metadata": {
        "id": "view-in-github",
        "colab_type": "text"
      },
      "source": [
        "<a href=\"https://colab.research.google.com/github/ONYEMAH-ALEXANDER/Google-colab/blob/main/lex.ipynb\" target=\"_parent\"><img src=\"https://colab.research.google.com/assets/colab-badge.svg\" alt=\"Open In Colab\"/></a>"
      ]
    },
    {
      "cell_type": "markdown",
      "source": [
        "17th April,2025 Thursday"
      ],
      "metadata": {
        "id": "tRfYktiQraNu"
      }
    },
    {
      "cell_type": "code",
      "source": [
        "class Vehicle:\n",
        "    def __init__(self,model,color):\n",
        "        self.model = model\n",
        "        self.color = color\n",
        "my_vehicle = Vehicle(\"benz\",\"red\")\n",
        "print(my_vehicle.model)\n",
        "print(my_vehicle.color)"
      ],
      "metadata": {
        "colab": {
          "base_uri": "https://localhost:8080/"
        },
        "id": "n_ukRFlqvwOL",
        "outputId": "abc4914c-67e4-4b7b-bf61-0cb8e9cf7bbf"
      },
      "execution_count": null,
      "outputs": [
        {
          "output_type": "stream",
          "name": "stdout",
          "text": [
            "benz\n",
            "red\n"
          ]
        }
      ]
    },
    {
      "cell_type": "code",
      "source": [
        "class Person:\n",
        "  def __init__(self, fname, lname):\n",
        "    self.firstname = fname\n",
        "    self.lastname = lname\n",
        "\n",
        "  def printname(self):\n",
        "    print(self.firstname, self.lastname)\n",
        "\n",
        "class Student(Person):\n",
        "  def __init__(self, fname, lname, year):\n",
        "    super().__init__(fname, lname)\n",
        "    self.graduationyear = year\n",
        "\n",
        "x = Student(\"Mike\", \"Olsen\", 2019)\n",
        "print(x.graduationyear)\n"
      ],
      "metadata": {
        "colab": {
          "base_uri": "https://localhost:8080/"
        },
        "id": "nopbiiHewOLm",
        "outputId": "41de7916-71fc-4678-ceb4-312116e48a83"
      },
      "execution_count": null,
      "outputs": [
        {
          "output_type": "stream",
          "name": "stdout",
          "text": [
            "2019\n"
          ]
        }
      ]
    },
    {
      "cell_type": "markdown",
      "source": [
        "# EXERCISES ON OOP"
      ],
      "metadata": {
        "id": "uHILIq-uWQe7"
      }
    },
    {
      "cell_type": "markdown",
      "source": [
        "1. Basic Inheritance\n",
        "Create a parent class Number with an attribute value. Then, create a child class Integer that inherits from Number and adds an attribute is_positive.\n",
        "\n"
      ],
      "metadata": {
        "id": "09iE_OMPWoUs"
      }
    },
    {
      "cell_type": "code",
      "source": [
        "class Number:\n",
        "    def __init__(self, value, float_value):\n",
        "        self.value = value\n",
        "        self.float_value = float_value\n",
        "\n",
        "    def fig(self):\n",
        "        print(\"State the value of the figure\")\n",
        "\n",
        "\n",
        "class Integer(Number):\n",
        "    def __init__(self, value, float_value):\n",
        "        super().__init__(value, float_value)\n",
        "        self.is_positive = value > 0\n",
        "\n",
        "\n",
        "my_integer = Integer(45, 3.142)\n",
        "print(my_integer.value)\n",
        "print(my_integer.float_value)\n",
        "print(my_integer.is_positive)"
      ],
      "metadata": {
        "id": "UInozdLhWwk5",
        "outputId": "4d135bf0-86e0-4998-e950-d272413479d3",
        "colab": {
          "base_uri": "https://localhost:8080/"
        }
      },
      "execution_count": null,
      "outputs": [
        {
          "output_type": "stream",
          "name": "stdout",
          "text": [
            "45\n",
            "3.142\n",
            "True\n"
          ]
        }
      ]
    },
    {
      "cell_type": "markdown",
      "source": [],
      "metadata": {
        "id": "4qwrLD4ArXfd"
      }
    },
    {
      "cell_type": "markdown",
      "source": [
        "18th April,2025 Friday"
      ],
      "metadata": {
        "id": "1560ZzWwrjRJ"
      }
    },
    {
      "cell_type": "markdown",
      "source": [
        "1.Create a class called Rectangle with attributes width and height."
      ],
      "metadata": {
        "id": "6YfeN2-QrpdD"
      }
    },
    {
      "cell_type": "code",
      "source": [
        "class Rectangle:\n",
        "  def __init__(self,width,height):\n",
        "    self.width = width\n",
        "    self.height = height\n",
        "x = Rectangle(\"width:25\",\"height:40\")\n",
        "print(x.width)\n",
        "print(x.height)"
      ],
      "metadata": {
        "colab": {
          "base_uri": "https://localhost:8080/"
        },
        "id": "9TidwQb_r7Kx",
        "outputId": "c3095478-8372-48e6-88de-27a8dc3000f1"
      },
      "execution_count": null,
      "outputs": [
        {
          "output_type": "stream",
          "name": "stdout",
          "text": [
            "width:25\n",
            "height:40\n"
          ]
        }
      ]
    },
    {
      "cell_type": "markdown",
      "source": [
        "2.Define a class called Book with attributes title and author."
      ],
      "metadata": {
        "id": "yEllFerusKlW"
      }
    },
    {
      "cell_type": "code",
      "source": [
        "class Book:\n",
        "  def __init__(self,title,author):\n",
        "    self.title = title\n",
        "    self.author = author\n",
        "my_book = Book(\"Learn python using storytelling\",\"pylex\")\n",
        "print(my_book.title)\n",
        "print(my_book.author)"
      ],
      "metadata": {
        "colab": {
          "base_uri": "https://localhost:8080/"
        },
        "id": "nxGlE73XsO-F",
        "outputId": "064a430e-2e1b-4354-8dcf-a3cc69e6d5c5"
      },
      "execution_count": null,
      "outputs": [
        {
          "output_type": "stream",
          "name": "stdout",
          "text": [
            "Learn python using storytelling\n",
            "pylex\n"
          ]
        }
      ]
    }
  ]
}