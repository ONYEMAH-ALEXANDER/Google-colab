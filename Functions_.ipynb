{
  "nbformat": 4,
  "nbformat_minor": 0,
  "metadata": {
    "colab": {
      "provenance": [],
      "authorship_tag": "ABX9TyOuyMn4MCLP6LYKk93xIRvM",
      "include_colab_link": true
    },
    "kernelspec": {
      "name": "python3",
      "display_name": "Python 3"
    },
    "language_info": {
      "name": "python"
    }
  },
  "cells": [
    {
      "cell_type": "markdown",
      "metadata": {
        "id": "view-in-github",
        "colab_type": "text"
      },
      "source": [
        "<a href=\"https://colab.research.google.com/github/ONYEMAH-ALEXANDER/Google-colab/blob/main/Functions_.ipynb\" target=\"_parent\"><img src=\"https://colab.research.google.com/assets/colab-badge.svg\" alt=\"Open In Colab\"/></a>"
      ]
    },
    {
      "cell_type": "markdown",
      "source": [
        "Define a function subtract_five that takes one argument num and returns num - 5."
      ],
      "metadata": {
        "id": "MI2DeBZBoS7D"
      }
    },
    {
      "cell_type": "code",
      "source": [
        "def subtract_five(num):\n",
        "    return num - 5\n",
        "result = subtract_five(10)\n",
        "print(f\"The answer of the outcome is :\", result)"
      ],
      "metadata": {
        "colab": {
          "base_uri": "https://localhost:8080/"
        },
        "id": "8Av8sdKmom0F",
        "outputId": "a8152f6d-c90d-468f-d40b-a4266f1111a4"
      },
      "execution_count": 1,
      "outputs": [
        {
          "output_type": "stream",
          "name": "stdout",
          "text": [
            "The answer of the outcome is : 5\n"
          ]
        }
      ]
    }
  ]
}