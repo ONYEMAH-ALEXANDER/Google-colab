{
  "nbformat": 4,
  "nbformat_minor": 0,
  "metadata": {
    "colab": {
      "provenance": [],
      "include_colab_link": true
    },
    "kernelspec": {
      "name": "python3",
      "display_name": "Python 3"
    },
    "language_info": {
      "name": "python"
    }
  },
  "cells": [
    {
      "cell_type": "markdown",
      "metadata": {
        "id": "view-in-github",
        "colab_type": "text"
      },
      "source": [
        "<a href=\"https://colab.research.google.com/github/ONYEMAH-ALEXANDER/Google-colab/blob/main/Functions_.ipynb\" target=\"_parent\"><img src=\"https://colab.research.google.com/assets/colab-badge.svg\" alt=\"Open In Colab\"/></a>"
      ]
    },
    {
      "cell_type": "markdown",
      "source": [
        "Define a function subtract_five that takes one argument num and returns num - 5."
      ],
      "metadata": {
        "id": "MI2DeBZBoS7D"
      }
    },
    {
      "cell_type": "code",
      "source": [
        "def subtract_five(num):\n",
        "    return num - 5\n",
        "result = subtract_five(10)\n",
        "print(f\"The answer of the outcome is :\", result)"
      ],
      "metadata": {
        "colab": {
          "base_uri": "https://localhost:8080/"
        },
        "id": "8Av8sdKmom0F",
        "outputId": "1ddbe88b-d664-4601-9cf5-44d0515472ae"
      },
      "execution_count": 1,
      "outputs": [
        {
          "output_type": "stream",
          "name": "stdout",
          "text": [
            "The answer of the outcome is : 5\n"
          ]
        }
      ]
    },
    {
      "cell_type": "markdown",
      "source": [
        "1. Create a function that adds 5 and 7 and prints the result"
      ],
      "metadata": {
        "id": "yUhxoOZ7J9YY"
      }
    },
    {
      "cell_type": "code",
      "source": [
        "def add(a,b):\n",
        "    return a + b\n",
        "\n",
        "result = add(5,7)\n",
        "print(result)"
      ],
      "metadata": {
        "id": "-0Ubu_zbKC26",
        "outputId": "8291faab-7200-4260-9c87-413822509982",
        "colab": {
          "base_uri": "https://localhost:8080/"
        }
      },
      "execution_count": 2,
      "outputs": [
        {
          "output_type": "stream",
          "name": "stdout",
          "text": [
            "12\n"
          ]
        }
      ]
    },
    {
      "cell_type": "markdown",
      "source": [
        "2. Write a function that takes one number and multiplies it by 2."
      ],
      "metadata": {
        "id": "AHeg1--6KK-k"
      }
    },
    {
      "cell_type": "code",
      "source": [
        "def multiply(a,b):\n",
        "    return a * b\n",
        "\n",
        "result = multiply(12,2)\n",
        "print(result)"
      ],
      "metadata": {
        "id": "0jNPLcNDKL8M",
        "outputId": "01df29f5-9812-430d-faba-aebf5c0477b7",
        "colab": {
          "base_uri": "https://localhost:8080/"
        }
      },
      "execution_count": 3,
      "outputs": [
        {
          "output_type": "stream",
          "name": "stdout",
          "text": [
            "24\n"
          ]
        }
      ]
    },
    {
      "cell_type": "markdown",
      "source": [
        "3. Make a function that prints the number 10 times 5."
      ],
      "metadata": {
        "id": "Khk2IbeeKQEU"
      }
    },
    {
      "cell_type": "code",
      "source": [
        "def number(n):\n",
        "    return n * 5\n",
        "\n",
        "result = number(10)\n",
        "print(f\"The value of the result is : {result}\")"
      ],
      "metadata": {
        "id": "-AQj3X7ZKVmk",
        "outputId": "c0363d02-533a-4587-ef07-e2a8f3566630",
        "colab": {
          "base_uri": "https://localhost:8080/"
        }
      },
      "execution_count": 4,
      "outputs": [
        {
          "output_type": "stream",
          "name": "stdout",
          "text": [
            "The value of the result is : 50\n"
          ]
        }
      ]
    },
    {
      "cell_type": "markdown",
      "source": [
        "4.Write a function that subtracts 8 from 20 and shows the answer."
      ],
      "metadata": {
        "id": "SkIoMu3VKYSB"
      }
    },
    {
      "cell_type": "code",
      "source": [
        "def subtracts(n):\n",
        "    return 20 - n\n",
        "\n",
        "result = subtracts(8)\n",
        "print(f\"The value of the result is : {result}\")"
      ],
      "metadata": {
        "id": "yNqXLS8EKe0o",
        "outputId": "65758bfa-ac74-427d-8c0b-11a0621a78dd",
        "colab": {
          "base_uri": "https://localhost:8080/"
        }
      },
      "execution_count": 5,
      "outputs": [
        {
          "output_type": "stream",
          "name": "stdout",
          "text": [
            "The value of the result is : 12\n"
          ]
        }
      ]
    },
    {
      "cell_type": "markdown",
      "source": [
        "5. Create a function that takes two numbers and divides the first by the second.  "
      ],
      "metadata": {
        "id": "pCZD2zuQKf6y"
      }
    },
    {
      "cell_type": "code",
      "source": [
        "def divison_of_two_numbers(a,b):\n",
        "    return a / b\n",
        "\n",
        "result = divison_of_two_numbers(56,2)\n",
        "print(f\"The value of the result is : {result}\")"
      ],
      "metadata": {
        "id": "ZqA9HEmKKi8i",
        "outputId": "4936fd86-9211-473c-b36d-708b690f535f",
        "colab": {
          "base_uri": "https://localhost:8080/"
        }
      },
      "execution_count": 6,
      "outputs": [
        {
          "output_type": "stream",
          "name": "stdout",
          "text": [
            "The value of the result is : 28.0\n"
          ]
        }
      ]
    },
    {
      "cell_type": "markdown",
      "source": [
        "6. Make a function that prints the square of 6."
      ],
      "metadata": {
        "id": "BXLWi1OdKnYY"
      }
    },
    {
      "cell_type": "code",
      "source": [
        "def square(num):\n",
        "    return num ** 2\n",
        "\n",
        "\n",
        "result = square(6)\n",
        "print(f\"The value of the result is : {result}\")"
      ],
      "metadata": {
        "id": "zhGYojCCKquA",
        "outputId": "2be43f78-668d-480c-f271-ccd2f64d527e",
        "colab": {
          "base_uri": "https://localhost:8080/"
        }
      },
      "execution_count": 7,
      "outputs": [
        {
          "output_type": "stream",
          "name": "stdout",
          "text": [
            "The value of the result is : 36\n"
          ]
        }
      ]
    },
    {
      "cell_type": "markdown",
      "source": [
        "7. Write a function that returns the sum of 1, 2, 3, and 4."
      ],
      "metadata": {
        "id": "_Wb_-V86K0k5"
      }
    },
    {
      "cell_type": "code",
      "source": [
        "def add():\n",
        "    numbers = [1, 2, 3, 4]  # Put numbers in a list\n",
        "    total = sum(numbers)    # sum() works with lists\n",
        "    return total\n",
        "\n",
        "result = add()\n",
        "print(result)"
      ],
      "metadata": {
        "id": "4mHYouceK3r_",
        "outputId": "2da78b25-7780-4f7e-8388-9035dfd94804",
        "colab": {
          "base_uri": "https://localhost:8080/"
        }
      },
      "execution_count": 8,
      "outputs": [
        {
          "output_type": "stream",
          "name": "stdout",
          "text": [
            "10\n"
          ]
        }
      ]
    },
    {
      "cell_type": "markdown",
      "source": [
        "8.Create a function that finds the area of a square with side = 5"
      ],
      "metadata": {
        "id": "lywBHUF4K9xj"
      }
    },
    {
      "cell_type": "code",
      "source": [
        "def area(length):\n",
        "    return length * length\n",
        "\n",
        "result = area(5)\n",
        "print(result)"
      ],
      "metadata": {
        "id": "Sue2824ALB03",
        "outputId": "aa3cb74c-a318-425d-d2d0-8be314495745",
        "colab": {
          "base_uri": "https://localhost:8080/"
        }
      },
      "execution_count": 9,
      "outputs": [
        {
          "output_type": "stream",
          "name": "stdout",
          "text": [
            "25\n"
          ]
        }
      ]
    },
    {
      "cell_type": "markdown",
      "source": [
        "9. Make a function that returns if a number is bigger than 10.  "
      ],
      "metadata": {
        "id": "pO-wOtkpLEsN"
      }
    },
    {
      "cell_type": "code",
      "source": [
        "def is_bigger_than_10(num):\n",
        "    if num > 10:\n",
        "        return True\n",
        "    else:\n",
        "        return False\n",
        "\n",
        "bigger = is_bigger_than_10(2)\n",
        "print(bigger)"
      ],
      "metadata": {
        "id": "sjrFNnSILH57",
        "outputId": "fa0694f2-b655-4fb5-ce73-a4a3829ea462",
        "colab": {
          "base_uri": "https://localhost:8080/"
        }
      },
      "execution_count": 10,
      "outputs": [
        {
          "output_type": "stream",
          "name": "stdout",
          "text": [
            "False\n"
          ]
        }
      ]
    },
    {
      "cell_type": "markdown",
      "source": [
        "10. Create a function that says “Hello” five times."
      ],
      "metadata": {
        "id": "64kGBuswLMsL"
      }
    },
    {
      "cell_type": "code",
      "source": [
        "def say_hello():\n",
        "    for _ in range(5):\n",
        "        print(\"Hello\")\n",
        "\n",
        "say_hello()"
      ],
      "metadata": {
        "id": "YEEOBTTHLRPg",
        "outputId": "0f1ff024-f31d-4f9a-d54b-e67f19b47947",
        "colab": {
          "base_uri": "https://localhost:8080/"
        }
      },
      "execution_count": 11,
      "outputs": [
        {
          "output_type": "stream",
          "name": "stdout",
          "text": [
            "Hello\n",
            "Hello\n",
            "Hello\n",
            "Hello\n",
            "Hello\n"
          ]
        }
      ]
    },
    {
      "cell_type": "markdown",
      "source": [
        "11.Write a function that calculates the area of a circle (π × r²)."
      ],
      "metadata": {
        "id": "nbWAAe7vmAyq"
      }
    },
    {
      "cell_type": "code",
      "source": [
        "import math\n",
        "\n",
        "def area(r):\n",
        "    return math.pi * r ** 2\n",
        "\n",
        "result = area(5)\n",
        "print(f\"The value of the result is : {result}\")"
      ],
      "metadata": {
        "id": "RJt46AX2mGyU",
        "outputId": "4e82a2f5-0b63-4ee1-95f5-fada1cfbab10",
        "colab": {
          "base_uri": "https://localhost:8080/"
        }
      },
      "execution_count": 12,
      "outputs": [
        {
          "output_type": "stream",
          "name": "stdout",
          "text": [
            "The value of the result is : 78.53981633974483\n"
          ]
        }
      ]
    },
    {
      "cell_type": "markdown",
      "source": [
        "12.Create a function that finds the area of a rectangle with l = 10 and w = 5."
      ],
      "metadata": {
        "id": "MHNkGfVGmL4-"
      }
    },
    {
      "cell_type": "code",
      "source": [
        "def area_of_of_a_rectangle(l,w):\n",
        "    return  l * w\n",
        "\n",
        "result = area_of_of_a_rectangle(10,5)\n",
        "print(f\"The value of the result is : {result}\")"
      ],
      "metadata": {
        "id": "FC0vrmVpmRJx",
        "outputId": "77010cfc-b8fd-4da7-d8c0-f7c187b95690",
        "colab": {
          "base_uri": "https://localhost:8080/"
        }
      },
      "execution_count": 14,
      "outputs": [
        {
          "output_type": "stream",
          "name": "stdout",
          "text": [
            "The value of the result is : 50\n"
          ]
        }
      ]
    }
  ]
}