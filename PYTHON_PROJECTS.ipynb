{
  "nbformat": 4,
  "nbformat_minor": 0,
  "metadata": {
    "colab": {
      "provenance": [],
      "authorship_tag": "ABX9TyMSUfp2aSHP670xvqJM/5OI",
      "include_colab_link": true
    },
    "kernelspec": {
      "name": "python3",
      "display_name": "Python 3"
    },
    "language_info": {
      "name": "python"
    }
  },
  "cells": [
    {
      "cell_type": "markdown",
      "metadata": {
        "id": "view-in-github",
        "colab_type": "text"
      },
      "source": [
        "<a href=\"https://colab.research.google.com/github/ONYEMAH-ALEXANDER/Google-colab/blob/main/PYTHON_PROJECTS.ipynb\" target=\"_parent\"><img src=\"https://colab.research.google.com/assets/colab-badge.svg\" alt=\"Open In Colab\"/></a>"
      ]
    },
    {
      "cell_type": "markdown",
      "source": [
        "Create a Calculator class that can add, subtract, multiply, and divide two numbers.\n"
      ],
      "metadata": {
        "id": "ItXaQghfD-K-"
      }
    },
    {
      "cell_type": "code",
      "source": [
        "class Calculator:\n",
        "    def __init__(self,num1,num2):\n",
        "        self.num1 = num1\n",
        "        self.num2 = num2\n",
        "\n",
        "    def add(self):\n",
        "        return self.num1 + self.num2\n",
        "\n",
        "    def subtract(self):\n",
        "        return self.num1 - self.num2\n",
        "\n",
        "    def multiply(self):\n",
        "        return self.num1 * self.num2\n",
        "    def divide(self):\n",
        "        return self.num1 / self.num2\n",
        "\n",
        "my_calculator = Calculator(16,2)\n",
        "print(my_calculator.num1)\n",
        "print(my_calculator.num2)\n",
        "print(my_calculator.add())\n",
        "print(my_calculator.subtract())\n",
        "print(my_calculator.multiply())\n",
        "print(my_calculator.divide())"
      ],
      "metadata": {
        "colab": {
          "base_uri": "https://localhost:8080/"
        },
        "id": "bx0xoGrqEA1k",
        "outputId": "fc262161-aaea-4886-d31b-0438daf7f943"
      },
      "execution_count": 2,
      "outputs": [
        {
          "output_type": "stream",
          "name": "stdout",
          "text": [
            "16\n",
            "2\n",
            "18\n",
            "14\n",
            "32\n",
            "8.0\n"
          ]
        }
      ]
    }
  ]
}