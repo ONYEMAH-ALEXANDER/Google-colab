{
  "nbformat": 4,
  "nbformat_minor": 0,
  "metadata": {
    "colab": {
      "provenance": [],
      "authorship_tag": "ABX9TyPw18TZ7uPa5US9TQUT8IuD",
      "include_colab_link": true
    },
    "kernelspec": {
      "name": "python3",
      "display_name": "Python 3"
    },
    "language_info": {
      "name": "python"
    }
  },
  "cells": [
    {
      "cell_type": "markdown",
      "metadata": {
        "id": "view-in-github",
        "colab_type": "text"
      },
      "source": [
        "<a href=\"https://colab.research.google.com/github/ONYEMAH-ALEXANDER/Google-colab/blob/main/Python_oop.ipynb\" target=\"_parent\"><img src=\"https://colab.research.google.com/assets/colab-badge.svg\" alt=\"Open In Colab\"/></a>"
      ]
    },
    {
      "cell_type": "markdown",
      "source": [],
      "metadata": {
        "id": "FiesXRFWpfzp"
      }
    },
    {
      "cell_type": "markdown",
      "source": [
        "1.Create an object from the Rectangle class with width 10 and height 20."
      ],
      "metadata": {
        "id": "4w8Y3kBQphLm"
      }
    },
    {
      "cell_type": "code",
      "source": [
        "class Rectangle:\n",
        "    def __init__(self,width,height):\n",
        "        self.width = width\n",
        "        self.height = height\n",
        "\n",
        "my_rectangle = Rectangle(10,20)\n",
        "print(my_rectangle.width)\n",
        "print(my_rectangle.height)"
      ],
      "metadata": {
        "colab": {
          "base_uri": "https://localhost:8080/"
        },
        "id": "xFsnq6WKpmif",
        "outputId": "5c7b584b-e20f-42cf-886d-a7c07570cd34"
      },
      "execution_count": 1,
      "outputs": [
        {
          "output_type": "stream",
          "name": "stdout",
          "text": [
            "10\n",
            "20\n"
          ]
        }
      ]
    },
    {
      "cell_type": "markdown",
      "source": [
        "2.Create a class BankAccount with a starting balance of 1000. Write a method to deposit 500 and check the new balance."
      ],
      "metadata": {
        "id": "3G48D_szEDyr"
      }
    },
    {
      "cell_type": "code",
      "source": [
        "class BankAccount:\n",
        "    def __init__(self, balance=1000):\n",
        "        self.balance = balance\n",
        "\n",
        "    def deposit(self, amount):\n",
        "        self.balance += amount\n",
        "\n",
        "    def get_balance(self):\n",
        "        return self.balance\n",
        "\n",
        "account = BankAccount()\n",
        "print(\"Initial balance:\", account.get_balance())\n",
        "\n",
        "account.deposit(500)\n",
        "print(\"New balance:\", account.get_balance())"
      ],
      "metadata": {
        "colab": {
          "base_uri": "https://localhost:8080/"
        },
        "id": "Ndix_tsCEQTP",
        "outputId": "c7370a8f-f13d-40aa-f150-7a691dac4684"
      },
      "execution_count": 2,
      "outputs": [
        {
          "output_type": "stream",
          "name": "stdout",
          "text": [
            "Initial balance: 1000\n",
            "New balance: 1500\n"
          ]
        }
      ]
    }
  ]
}