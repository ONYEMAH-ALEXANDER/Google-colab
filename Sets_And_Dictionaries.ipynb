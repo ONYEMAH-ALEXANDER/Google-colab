{
  "nbformat": 4,
  "nbformat_minor": 0,
  "metadata": {
    "colab": {
      "provenance": [],
      "authorship_tag": "ABX9TyOm8NJHZpM5n7dmLAWTZlhI",
      "include_colab_link": true
    },
    "kernelspec": {
      "name": "python3",
      "display_name": "Python 3"
    },
    "language_info": {
      "name": "python"
    }
  },
  "cells": [
    {
      "cell_type": "markdown",
      "metadata": {
        "id": "view-in-github",
        "colab_type": "text"
      },
      "source": [
        "<a href=\"https://colab.research.google.com/github/ONYEMAH-ALEXANDER/Google-colab/blob/main/Sets_And_Dictionaries.ipynb\" target=\"_parent\"><img src=\"https://colab.research.google.com/assets/colab-badge.svg\" alt=\"Open In Colab\"/></a>"
      ]
    },
    {
      "cell_type": "markdown",
      "source": [
        "1. You have a basket with apples: {1, 2, 2, 3}. How many unique apples are there?\n"
      ],
      "metadata": {
        "id": "sOEu39cHERDf"
      }
    },
    {
      "cell_type": "code",
      "source": [
        "apples = {1,2,2,3}\n",
        "print(len(apples))\n"
      ],
      "metadata": {
        "colab": {
          "base_uri": "https://localhost:8080/"
        },
        "id": "shLdgUECEUUV",
        "outputId": "7276ee89-53df-4004-b7e5-3b6bd3ab1c61"
      },
      "execution_count": 1,
      "outputs": [
        {
          "output_type": "stream",
          "name": "stdout",
          "text": [
            "3\n"
          ]
        }
      ]
    },
    {
      "cell_type": "markdown",
      "source": [
        "\n",
        "2. Make a set of numbers from 1 to 5 and add number 3 again. What happens?\n"
      ],
      "metadata": {
        "id": "ak-1piEDEXaA"
      }
    },
    {
      "cell_type": "code",
      "source": [
        "numbers = {1,2,3,4,5}\n",
        "numbers.add(3)\n",
        "print(numbers)\n"
      ],
      "metadata": {
        "colab": {
          "base_uri": "https://localhost:8080/"
        },
        "id": "CxnlvydOEba7",
        "outputId": "61e2deb5-1d0b-4922-cec9-d16d325d0f22"
      },
      "execution_count": 2,
      "outputs": [
        {
          "output_type": "stream",
          "name": "stdout",
          "text": [
            "{1, 2, 3, 4, 5}\n"
          ]
        }
      ]
    },
    {
      "cell_type": "markdown",
      "source": [
        "3. Which operation gives you numbers that are in both {1, 2, 3} and {2, 3, 4}?\n"
      ],
      "metadata": {
        "id": "c7wHl_CNEeaV"
      }
    },
    {
      "cell_type": "code",
      "source": [
        "set1 = {1,2,3}\n",
        "set2 = {2,3,4}\n",
        "set3 = set1 & set2\n",
        "print(f\"The value of the set3 is : {set3}\")"
      ],
      "metadata": {
        "colab": {
          "base_uri": "https://localhost:8080/"
        },
        "id": "hOAipljmElYX",
        "outputId": "964b27d0-9d06-4d02-b4c0-9a0b4ba2b2c4"
      },
      "execution_count": 3,
      "outputs": [
        {
          "output_type": "stream",
          "name": "stdout",
          "text": [
            "The value of the set3 is : {2, 3}\n"
          ]
        }
      ]
    },
    {
      "cell_type": "markdown",
      "source": [],
      "metadata": {
        "id": "mxuaNeQZEo8h"
      }
    },
    {
      "cell_type": "markdown",
      "source": [
        "4. Can you add the number 5 to the set {1, 2, 3}? Show how.\n"
      ],
      "metadata": {
        "id": "ZDS_PcB8ErbS"
      }
    },
    {
      "cell_type": "code",
      "source": [
        "set = {1,2,3}\n",
        "set.add(5)\n",
        "print(set)"
      ],
      "metadata": {
        "colab": {
          "base_uri": "https://localhost:8080/"
        },
        "id": "yWeH_sQQEv8d",
        "outputId": "ebcde4a2-3e3a-4844-87d2-117799a878b0"
      },
      "execution_count": 4,
      "outputs": [
        {
          "output_type": "stream",
          "name": "stdout",
          "text": [
            "{1, 2, 3, 5}\n"
          ]
        }
      ]
    },
    {
      "cell_type": "markdown",
      "source": [
        "5. Remove the number 2 from the set {1, 2, 3, 4}. What’s left?"
      ],
      "metadata": {
        "id": "oaUV5CxdE0pk"
      }
    },
    {
      "cell_type": "code",
      "source": [
        "set = {1,2,3,4}\n",
        "set.remove(2)\n",
        "print(f\" The value of the set: {set}\")"
      ],
      "metadata": {
        "colab": {
          "base_uri": "https://localhost:8080/"
        },
        "id": "6QTB7qpXE4IF",
        "outputId": "f261dd05-d496-4379-a5d3-7fca06c665d7"
      },
      "execution_count": 6,
      "outputs": [
        {
          "output_type": "stream",
          "name": "stdout",
          "text": [
            " The value of the set: {1, 3, 4}\n"
          ]
        }
      ]
    },
    {
      "cell_type": "markdown",
      "source": [
        "6. Find the union (all unique numbers) of sets {4, 5, 6} and {6, 7, 8}.  \n"
      ],
      "metadata": {
        "id": "1glFF9WVFEie"
      }
    },
    {
      "cell_type": "code",
      "source": [
        "set1 = {4, 5, 6}\n",
        "set2 = {6, 7, 8}\n",
        "set3 = set1 | set2\n",
        "print(f\" The value of the set: {set3}\")\n",
        "set3 = set1.union(set2)\n",
        "print(f\" The value of the set: {set3}\")"
      ],
      "metadata": {
        "colab": {
          "base_uri": "https://localhost:8080/"
        },
        "id": "TXt5ngAwFJZ7",
        "outputId": "ee055197-54b0-4e5b-8cac-acc354b8b8ef"
      },
      "execution_count": 8,
      "outputs": [
        {
          "output_type": "stream",
          "name": "stdout",
          "text": [
            " The value of the set: {4, 5, 6, 7, 8}\n",
            " The value of the set: {4, 5, 6, 7, 8}\n"
          ]
        }
      ]
    },
    {
      "cell_type": "markdown",
      "source": [
        "7. Given sets of circle areas {3.14, 6.28} and square areas {4, 9}, find the intersection.\n"
      ],
      "metadata": {
        "id": "xiB80yLNFVsT"
      }
    },
    {
      "cell_type": "code",
      "source": [
        "set1 = {3.14, 6.28}\n",
        "set2 = {4, 9}\n",
        "set3 = set1.intersection(set2)\n",
        "print(f\" The value of the set: {set3}\")\n",
        "set3 = set1 & set2\n",
        "print(f\" The value of the set: {set3}\")"
      ],
      "metadata": {
        "colab": {
          "base_uri": "https://localhost:8080/"
        },
        "id": "e9quNzJtFWsB",
        "outputId": "64f16661-5ddc-46dc-9e5f-9069b8033614"
      },
      "execution_count": 11,
      "outputs": [
        {
          "output_type": "stream",
          "name": "stdout",
          "text": [
            " The value of the set: set()\n",
            " The value of the set: set()\n"
          ]
        }
      ]
    },
    {
      "cell_type": "markdown",
      "source": [
        "8. If you have a set of triangle side lengths {3, 4, 5}, check if 5 is in the set.\n"
      ],
      "metadata": {
        "id": "SmboM-plFrBu"
      }
    },
    {
      "cell_type": "code",
      "source": [
        "triangle_sides = {3, 4, 5}\n",
        "if 5 in triangle_sides:\n",
        "    print(\"Yes, 5 is in the set.\")\n",
        "else:\n",
        "    print(\"No, 5 is not in the set.\")\n"
      ],
      "metadata": {
        "colab": {
          "base_uri": "https://localhost:8080/"
        },
        "id": "OUkJsC09Fu1j",
        "outputId": "f708d542-27cb-408b-815f-04f64638715c"
      },
      "execution_count": 15,
      "outputs": [
        {
          "output_type": "stream",
          "name": "stdout",
          "text": [
            "Yes, 5 is in the set.\n"
          ]
        }
      ]
    },
    {
      "cell_type": "markdown",
      "source": [
        "\n",
        "9. Use set difference to find numbers in {1, 2, 3, 4} that are not in {2, 3}."
      ],
      "metadata": {
        "id": "BjnVsnz1G0wn"
      }
    },
    {
      "cell_type": "code",
      "source": [
        "set1 = {1, 2, 3, 4}\n",
        "set2 = {2, 3}\n",
        "set3 = set1 - set2\n",
        "print(f\" The value of the set: {set3}\")\n",
        "set3 = set1.difference(set2)\n",
        "print(f\" The value of the set: {set3}\")"
      ],
      "metadata": {
        "colab": {
          "base_uri": "https://localhost:8080/"
        },
        "id": "SRSRKP8VG1mt",
        "outputId": "cb897b63-396c-431e-9863-a1ba6cda0267"
      },
      "execution_count": 17,
      "outputs": [
        {
          "output_type": "stream",
          "name": "stdout",
          "text": [
            " The value of the set: {1, 4}\n",
            " The value of the set: {1, 4}\n"
          ]
        }
      ]
    },
    {
      "cell_type": "markdown",
      "source": [],
      "metadata": {
        "id": "0LHJq5-CHBD-"
      }
    }
  ]
}