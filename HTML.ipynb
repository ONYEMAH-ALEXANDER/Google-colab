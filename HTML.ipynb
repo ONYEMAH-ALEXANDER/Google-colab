{
  "nbformat": 4,
  "nbformat_minor": 0,
  "metadata": {
    "colab": {
      "provenance": [],
      "authorship_tag": "ABX9TyPU3m1EhTK2pativpa32dBK",
      "include_colab_link": true
    },
    "kernelspec": {
      "name": "python3",
      "display_name": "Python 3"
    },
    "language_info": {
      "name": "python"
    }
  },
  "cells": [
    {
      "cell_type": "markdown",
      "metadata": {
        "id": "view-in-github",
        "colab_type": "text"
      },
      "source": [
        "<a href=\"https://colab.research.google.com/github/ONYEMAH-ALEXANDER/Google-colab/blob/main/HTML.ipynb\" target=\"_parent\"><img src=\"https://colab.research.google.com/assets/colab-badge.svg\" alt=\"Open In Colab\"/></a>"
      ]
    },
    {
      "cell_type": "code",
      "execution_count": 2,
      "metadata": {
        "colab": {
          "base_uri": "https://localhost:8080/",
          "height": 100
        },
        "id": "2_0bt_5vzg5H",
        "outputId": "ac57d989-7876-41cc-b1ee-a38fea73c864"
      },
      "outputs": [
        {
          "output_type": "display_data",
          "data": {
            "text/plain": [
              "<IPython.core.display.HTML object>"
            ],
            "text/html": [
              "<!DOCTYPE html>\n",
              "<html>\n",
              "<head>\n",
              "  <title>My Colab Webpage</title>\n",
              "</head>\n",
              "<body>\n",
              "  <h1>Hello, World!</h1>\n",
              "  <p>This is a paragraph.</p>\n",
              "</body>\n",
              "</html>\n"
            ]
          },
          "metadata": {}
        }
      ],
      "source": [
        "%%html\n",
        "<!DOCTYPE html>\n",
        "<html>\n",
        "<head>\n",
        "  <title>My Colab Webpage</title>\n",
        "</head>\n",
        "<body>\n",
        "  <h1>Hello, World!</h1>\n",
        "  <p>This is a paragraph.</p>\n",
        "</body>\n",
        "</html>"
      ]
    },
    {
      "cell_type": "code",
      "source": [
        "from IPython.display import HTML\n",
        "HTML(\"\"\"\n",
        "<html>\n",
        "<head>\n",
        "  <title>My Colab Webpage</title>\n",
        "</head>\n",
        "<body>\n",
        "  <h1>Hello, World!</h1>\n",
        "  <p>This is a paragraph.</p>\n",
        "</body>\n",
        "</html>\n",
        "\"\"\")"
      ],
      "metadata": {
        "colab": {
          "base_uri": "https://localhost:8080/",
          "height": 100
        },
        "id": "e8NtGiMl2ggq",
        "outputId": "ce49fd1c-ea12-4775-a53d-1d30ffd65479"
      },
      "execution_count": 6,
      "outputs": [
        {
          "output_type": "execute_result",
          "data": {
            "text/plain": [
              "<IPython.core.display.HTML object>"
            ],
            "text/html": [
              "\n",
              "<html>\n",
              "<head>\n",
              "  <title>My Colab Webpage</title>\n",
              "</head>\n",
              "<body>\n",
              "  <h1>Hello, World!</h1>\n",
              "  <p>This is a paragraph.</p>\n",
              "</body>\n",
              "</html>\n"
            ]
          },
          "metadata": {},
          "execution_count": 6
        }
      ]
    }
  ]
}