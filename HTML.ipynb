{
  "nbformat": 4,
  "nbformat_minor": 0,
  "metadata": {
    "colab": {
      "provenance": [],
      "authorship_tag": "ABX9TyMtOpBIiViOCM0jIkbMA/yp",
      "include_colab_link": true
    },
    "kernelspec": {
      "name": "python3",
      "display_name": "Python 3"
    },
    "language_info": {
      "name": "python"
    }
  },
  "cells": [
    {
      "cell_type": "markdown",
      "metadata": {
        "id": "view-in-github",
        "colab_type": "text"
      },
      "source": [
        "<a href=\"https://colab.research.google.com/github/ONYEMAH-ALEXANDER/Google-colab/blob/main/HTML.ipynb\" target=\"_parent\"><img src=\"https://colab.research.google.com/assets/colab-badge.svg\" alt=\"Open In Colab\"/></a>"
      ]
    },
    {
      "cell_type": "code",
      "execution_count": 5,
      "metadata": {
        "colab": {
          "resources": {
            "http://localhost:8080/LEX-IMAGE-LOGO.jpg": {
              "data": "CjwhRE9DVFlQRSBodG1sPgo8aHRtbCBsYW5nPWVuPgogIDxtZXRhIGNoYXJzZXQ9dXRmLTg+CiAgPG1ldGEgbmFtZT12aWV3cG9ydCBjb250ZW50PSJpbml0aWFsLXNjYWxlPTEsIG1pbmltdW0tc2NhbGU9MSwgd2lkdGg9ZGV2aWNlLXdpZHRoIj4KICA8dGl0bGU+RXJyb3IgNDA0IChOb3QgRm91bmQpISExPC90aXRsZT4KICA8c3R5bGU+CiAgICAqe21hcmdpbjowO3BhZGRpbmc6MH1odG1sLGNvZGV7Zm9udDoxNXB4LzIycHggYXJpYWwsc2Fucy1zZXJpZn1odG1se2JhY2tncm91bmQ6I2ZmZjtjb2xvcjojMjIyO3BhZGRpbmc6MTVweH1ib2R5e21hcmdpbjo3JSBhdXRvIDA7bWF4LXdpZHRoOjM5MHB4O21pbi1oZWlnaHQ6MTgwcHg7cGFkZGluZzozMHB4IDAgMTVweH0qID4gYm9keXtiYWNrZ3JvdW5kOnVybCgvL3d3dy5nb29nbGUuY29tL2ltYWdlcy9lcnJvcnMvcm9ib3QucG5nKSAxMDAlIDVweCBuby1yZXBlYXQ7cGFkZGluZy1yaWdodDoyMDVweH1we21hcmdpbjoxMXB4IDAgMjJweDtvdmVyZmxvdzpoaWRkZW59aW5ze2NvbG9yOiM3Nzc7dGV4dC1kZWNvcmF0aW9uOm5vbmV9YSBpbWd7Ym9yZGVyOjB9QG1lZGlhIHNjcmVlbiBhbmQgKG1heC13aWR0aDo3NzJweCl7Ym9keXtiYWNrZ3JvdW5kOm5vbmU7bWFyZ2luLXRvcDowO21heC13aWR0aDpub25lO3BhZGRpbmctcmlnaHQ6MH19I2xvZ297YmFja2dyb3VuZDp1cmwoLy93d3cuZ29vZ2xlLmNvbS9pbWFnZXMvbG9nb3MvZXJyb3JwYWdlL2Vycm9yX2xvZ28tMTUweDU0LnBuZykgbm8tcmVwZWF0O21hcmdpbi1sZWZ0Oi01cHh9QG1lZGlhIG9ubHkgc2NyZWVuIGFuZCAobWluLXJlc29sdXRpb246MTkyZHBpKXsjbG9nb3tiYWNrZ3JvdW5kOnVybCgvL3d3dy5nb29nbGUuY29tL2ltYWdlcy9sb2dvcy9lcnJvcnBhZ2UvZXJyb3JfbG9nby0xNTB4NTQtMngucG5nKSBuby1yZXBlYXQgMCUgMCUvMTAwJSAxMDAlOy1tb3otYm9yZGVyLWltYWdlOnVybCgvL3d3dy5nb29nbGUuY29tL2ltYWdlcy9sb2dvcy9lcnJvcnBhZ2UvZXJyb3JfbG9nby0xNTB4NTQtMngucG5nKSAwfX1AbWVkaWEgb25seSBzY3JlZW4gYW5kICgtd2Via2l0LW1pbi1kZXZpY2UtcGl4ZWwtcmF0aW86Mil7I2xvZ297YmFja2dyb3VuZDp1cmwoLy93d3cuZ29vZ2xlLmNvbS9pbWFnZXMvbG9nb3MvZXJyb3JwYWdlL2Vycm9yX2xvZ28tMTUweDU0LTJ4LnBuZykgbm8tcmVwZWF0Oy13ZWJraXQtYmFja2dyb3VuZC1zaXplOjEwMCUgMTAwJX19I2xvZ297ZGlzcGxheTppbmxpbmUtYmxvY2s7aGVpZ2h0OjU0cHg7d2lkdGg6MTUwcHh9CiAgPC9zdHlsZT4KICA8YSBocmVmPS8vd3d3Lmdvb2dsZS5jb20vPjxzcGFuIGlkPWxvZ28gYXJpYS1sYWJlbD1Hb29nbGU+PC9zcGFuPjwvYT4KICA8cD48Yj40MDQuPC9iPiA8aW5zPlRoYXTigJlzIGFuIGVycm9yLjwvaW5zPgogIDxwPiAgPGlucz5UaGF04oCZcyBhbGwgd2Uga25vdy48L2lucz4K",
              "ok": false,
              "headers": [
                [
                  "content-length",
                  "1449"
                ],
                [
                  "content-type",
                  "text/html; charset=utf-8"
                ]
              ],
              "status": 404,
              "status_text": ""
            }
          },
          "base_uri": "https://localhost:8080/",
          "height": 406
        },
        "id": "w9f4yMPBHKQd",
        "outputId": "6c765004-3d64-41f7-8546-2a3ec5322d96"
      },
      "outputs": [
        {
          "output_type": "display_data",
          "data": {
            "text/plain": [
              "<IPython.core.display.HTML object>"
            ],
            "text/html": [
              "\n",
              "<!DOCTYPE html>\n",
              "<html lang=\"en\">\n",
              "<head>\n",
              "    <meta charset=\"UTF-8\">\n",
              "    <title>LEX ENTERPRISES.COM</title>\n",
              "</head>\n",
              "<body>\n",
              "    <h1><strong>WELCOME TO LEXAMITCH ENTERPRISES</strong></h1>\n",
              "    <hr>\n",
              "    <br>\n",
              "    <p>The CEO is Alexander Onyemah known as PYLEX</p>\n",
              "    <br>\n",
              "    <p>He is married to the most beautiful Lady on earth</p>\n",
              "    <br>\n",
              "    <p>Her Name is <strong>ANNA ONYEMAH</strong> and she is beautiful</p>\n",
              "    <address>No 3 femi Adams street, ibadan</address>\n",
              "    <br>\n",
              "    <p>Click the link below to watch the YouTube channel</p>\n",
              "    <a href=\"https://www.youtube.com/watch?v=3eOuK-pYhy4&list=RD7KVxjQUCyn0&index=3\">YouTube link</a>\n",
              "    <p>\n",
              "    <img src=\"LEX-IMAGE-LOGO.jpg\" alt=\"The image is my logo\" width=\"500\" height=\"500\">\n",
              "    </p>\n",
              "    <table>\n",
              "      <tr>\n",
              "        <th>Person 1</th>\n",
              "        <th>Person 2</th>\n",
              "        <th>Person 3</th>\n",
              "      </tr>\n",
              "      <tr>\n",
              "        <td>Emil</td>\n",
              "        <td>Tobias</td>\n",
              "        <td>Linus</td>\n",
              "      </tr>\n",
              "      <tr>\n",
              "        <td>16</td>\n",
              "        <td>14</td>\n",
              "        <td>10</td>\n",
              "      </tr>\n",
              "    </table>\n",
              "</body>\n",
              "</html>\n"
            ]
          },
          "metadata": {}
        }
      ],
      "source": [
        "from IPython.core.display import display, HTML\n",
        "\n",
        "html_code = \"\"\"\n",
        "<!DOCTYPE html>\n",
        "<html lang=\"en\">\n",
        "<head>\n",
        "    <meta charset=\"UTF-8\">\n",
        "    <title>LEX ENTERPRISES.COM</title>\n",
        "</head>\n",
        "<body>\n",
        "    <h1><strong>WELCOME TO LEXAMITCH ENTERPRISES</strong></h1>\n",
        "    <hr>\n",
        "    <br>\n",
        "    <p>The CEO is Alexander Onyemah known as PYLEX</p>\n",
        "    <br>\n",
        "    <p>He is married to the most beautiful Lady on earth</p>\n",
        "    <br>\n",
        "    <p>Her Name is <strong>ANNA ONYEMAH</strong> and she is beautiful</p>\n",
        "    <address>No 3 femi Adams street, ibadan</address>\n",
        "    <br>\n",
        "    <p>Click the link below to watch the YouTube channel</p>\n",
        "    <a href=\"https://www.youtube.com/watch?v=3eOuK-pYhy4&list=RD7KVxjQUCyn0&index=3\">YouTube link</a>\n",
        "    <p>\n",
        "    <img src=\"LEX-IMAGE-LOGO.jpg\" alt=\"The image is my logo\" width=\"500\" height=\"500\">\n",
        "    </p>\n",
        "    <table>\n",
        "      <tr>\n",
        "        <th>Person 1</th>\n",
        "        <th>Person 2</th>\n",
        "        <th>Person 3</th>\n",
        "      </tr>\n",
        "      <tr>\n",
        "        <td>Emil</td>\n",
        "        <td>Tobias</td>\n",
        "        <td>Linus</td>\n",
        "      </tr>\n",
        "      <tr>\n",
        "        <td>16</td>\n",
        "        <td>14</td>\n",
        "        <td>10</td>\n",
        "      </tr>\n",
        "    </table>\n",
        "</body>\n",
        "</html>\n",
        "\"\"\"\n",
        "\n",
        "display(HTML(html_code))\n"
      ]
    }
  ]
}