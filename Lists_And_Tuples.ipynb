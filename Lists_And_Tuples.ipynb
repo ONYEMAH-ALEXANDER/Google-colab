{
  "nbformat": 4,
  "nbformat_minor": 0,
  "metadata": {
    "colab": {
      "provenance": [],
      "authorship_tag": "ABX9TyOYbeeI8lDH7Bd8APCd5LAO",
      "include_colab_link": true
    },
    "kernelspec": {
      "name": "python3",
      "display_name": "Python 3"
    },
    "language_info": {
      "name": "python"
    }
  },
  "cells": [
    {
      "cell_type": "markdown",
      "metadata": {
        "id": "view-in-github",
        "colab_type": "text"
      },
      "source": [
        "<a href=\"https://colab.research.google.com/github/ONYEMAH-ALEXANDER/Google-colab/blob/main/Lists_And_Tuples.ipynb\" target=\"_parent\"><img src=\"https://colab.research.google.com/assets/colab-badge.svg\" alt=\"Open In Colab\"/></a>"
      ]
    },
    {
      "cell_type": "markdown",
      "source": [
        "1. Create a list of 5 numbers. Add them all together using a loop."
      ],
      "metadata": {
        "id": "iGJyRhbzOkjO"
      }
    },
    {
      "cell_type": "code",
      "source": [
        "numbers = [1, 2, 3, 4, 5]\n",
        "total_sum = 0\n",
        "for number in numbers:\n",
        "    total_sum = total_sum + number\n",
        "print(total_sum)"
      ],
      "metadata": {
        "colab": {
          "base_uri": "https://localhost:8080/"
        },
        "id": "5VXA9Qg2Orjy",
        "outputId": "2dc95148-4685-4b6e-bf7f-842f30c82355"
      },
      "execution_count": 11,
      "outputs": [
        {
          "output_type": "stream",
          "name": "stdout",
          "text": [
            "15\n"
          ]
        }
      ]
    },
    {
      "cell_type": "markdown",
      "source": [
        "2.Make a list of your favorite fruits. How can you print only the second fruit?"
      ],
      "metadata": {
        "id": "7aomDlAINrid"
      }
    },
    {
      "cell_type": "code",
      "source": [
        "fruits = [\"mango\",\"Apple\",\"Orange\",\"Banana\",\"Grape\"]\n",
        "print(fruits[1])"
      ],
      "metadata": {
        "colab": {
          "base_uri": "https://localhost:8080/"
        },
        "id": "qG2LRCveNvce",
        "outputId": "14ac01af-56b1-4a40-9ea0-1242d5e6365e"
      },
      "execution_count": 7,
      "outputs": [
        {
          "output_type": "stream",
          "name": "stdout",
          "text": [
            "Apple\n"
          ]
        }
      ]
    },
    {
      "cell_type": "markdown",
      "source": [
        "3.If you have a list of [2, 4, 6, 8], how do you change the first number to 10?"
      ],
      "metadata": {
        "id": "561RPafMN9f6"
      }
    },
    {
      "cell_type": "code",
      "source": [
        "number = [2,4,6,8]\n",
        "number[0] = 10\n",
        "print(f\"The Answer To The Question is: {number}\")"
      ],
      "metadata": {
        "colab": {
          "base_uri": "https://localhost:8080/"
        },
        "id": "QZbHTaWIN-ei",
        "outputId": "734cc019-783f-4af4-a62d-97e41e7981ea"
      },
      "execution_count": 8,
      "outputs": [
        {
          "output_type": "stream",
          "name": "stdout",
          "text": [
            "The Answer To The Question is: [10, 4, 6, 8]\n"
          ]
        }
      ]
    },
    {
      "cell_type": "markdown",
      "source": [
        "4. Add a new number to this list: [1, 2, 3]. What does the list look like now?"
      ],
      "metadata": {
        "id": "jM3NAlz0O4gW"
      }
    },
    {
      "cell_type": "code",
      "source": [
        "number = [1, 2, 3]\n",
        "number.append(4)\n",
        "print(number)"
      ],
      "metadata": {
        "colab": {
          "base_uri": "https://localhost:8080/"
        },
        "id": "LLRURXM6QCa3",
        "outputId": "9d641e3a-4f7f-4456-8ba3-c1d9a54507aa"
      },
      "execution_count": 12,
      "outputs": [
        {
          "output_type": "stream",
          "name": "stdout",
          "text": [
            "[1, 2, 3, 4]\n"
          ]
        }
      ]
    },
    {
      "cell_type": "markdown",
      "source": [
        "5. Remove the last item from [3, 6, 9, 12] using Python."
      ],
      "metadata": {
        "id": "e22MpaGyQHRW"
      }
    },
    {
      "cell_type": "code",
      "source": [
        "number = [3, 6, 9, 12]\n",
        "number.pop()\n",
        "print(number)"
      ],
      "metadata": {
        "colab": {
          "base_uri": "https://localhost:8080/"
        },
        "id": "_ZvYjupWQMJK",
        "outputId": "273bd0d6-f00f-4ef3-a09e-bb85af7530e5"
      },
      "execution_count": 13,
      "outputs": [
        {
          "output_type": "stream",
          "name": "stdout",
          "text": [
            "[3, 6, 9]\n"
          ]
        }
      ]
    }
  ]
}