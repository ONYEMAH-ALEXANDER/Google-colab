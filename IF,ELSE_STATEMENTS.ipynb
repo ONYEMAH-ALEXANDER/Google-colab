{
  "nbformat": 4,
  "nbformat_minor": 0,
  "metadata": {
    "colab": {
      "provenance": [],
      "authorship_tag": "ABX9TyMCF9JYxQJG7/DZxpofiIRE",
      "include_colab_link": true
    },
    "kernelspec": {
      "name": "python3",
      "display_name": "Python 3"
    },
    "language_info": {
      "name": "python"
    }
  },
  "cells": [
    {
      "cell_type": "markdown",
      "metadata": {
        "id": "view-in-github",
        "colab_type": "text"
      },
      "source": [
        "<a href=\"https://colab.research.google.com/github/ONYEMAH-ALEXANDER/Google-colab/blob/main/IF%2CELSE_STATEMENTS.ipynb\" target=\"_parent\"><img src=\"https://colab.research.google.com/assets/colab-badge.svg\" alt=\"Open In Colab\"/></a>"
      ]
    },
    {
      "cell_type": "markdown",
      "source": [
        "If 5 is greater than 3, print “Yes!”"
      ],
      "metadata": {
        "id": "MLQ5LfbZAhm7"
      }
    },
    {
      "cell_type": "code",
      "source": [
        "if 5 > 3:\n",
        "    print(\"Yes!\")"
      ],
      "metadata": {
        "colab": {
          "base_uri": "https://localhost:8080/"
        },
        "id": "6U5lvYKUAi2i",
        "outputId": "11b1e442-5286-4f29-f953-9ba4dabd94b5"
      },
      "execution_count": 1,
      "outputs": [
        {
          "output_type": "stream",
          "name": "stdout",
          "text": [
            "Yes!\n"
          ]
        }
      ]
    }
  ]
}