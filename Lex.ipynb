{
  "nbformat": 4,
  "nbformat_minor": 0,
  "metadata": {
    "colab": {
      "provenance": [],
      "authorship_tag": "ABX9TyN8BoKHhuVI03rUue2GcKOT",
      "include_colab_link": true
    },
    "kernelspec": {
      "name": "python3",
      "display_name": "Python 3"
    },
    "language_info": {
      "name": "python"
    }
  },
  "cells": [
    {
      "cell_type": "markdown",
      "metadata": {
        "id": "view-in-github",
        "colab_type": "text"
      },
      "source": [
        "<a href=\"https://colab.research.google.com/github/ONYEMAH-ALEXANDER/Google-colab/blob/main/Lex.ipynb\" target=\"_parent\"><img src=\"https://colab.research.google.com/assets/colab-badge.svg\" alt=\"Open In Colab\"/></a>"
      ]
    },
    {
      "cell_type": "code",
      "source": [
        "class Vehicle:\n",
        "    def __init__(self,model,color):\n",
        "        self.model = model\n",
        "        self.color = color\n",
        "my_vehicle = Vehicle(\"benz\",\"red\")\n",
        "print(my_vehicle.model)\n",
        "print(my_vehicle.color)"
      ],
      "metadata": {
        "colab": {
          "base_uri": "https://localhost:8080/"
        },
        "id": "n_ukRFlqvwOL",
        "outputId": "abc4914c-67e4-4b7b-bf61-0cb8e9cf7bbf"
      },
      "execution_count": null,
      "outputs": [
        {
          "output_type": "stream",
          "name": "stdout",
          "text": [
            "benz\n",
            "red\n"
          ]
        }
      ]
    },
    {
      "cell_type": "code",
      "source": [
        "class Person:\n",
        "  def __init__(self, fname, lname):\n",
        "    self.firstname = fname\n",
        "    self.lastname = lname\n",
        "\n",
        "  def printname(self):\n",
        "    print(self.firstname, self.lastname)\n",
        "\n",
        "class Student(Person):\n",
        "  def __init__(self, fname, lname, year):\n",
        "    super().__init__(fname, lname)\n",
        "    self.graduationyear = year\n",
        "\n",
        "x = Student(\"Mike\", \"Olsen\", 2019)\n",
        "print(x.graduationyear)\n"
      ],
      "metadata": {
        "colab": {
          "base_uri": "https://localhost:8080/"
        },
        "id": "nopbiiHewOLm",
        "outputId": "41de7916-71fc-4678-ceb4-312116e48a83"
      },
      "execution_count": null,
      "outputs": [
        {
          "output_type": "stream",
          "name": "stdout",
          "text": [
            "2019\n"
          ]
        }
      ]
    },
    {
      "cell_type": "markdown",
      "source": [
        "# EXERCISES ON OOP"
      ],
      "metadata": {
        "id": "uHILIq-uWQe7"
      }
    },
    {
      "cell_type": "markdown",
      "source": [
        "1. Basic Inheritance\n",
        "Create a parent class Number with an attribute value. Then, create a child class Integer that inherits from Number and adds an attribute is_positive.\n",
        "\n"
      ],
      "metadata": {
        "id": "09iE_OMPWoUs"
      }
    },
    {
      "cell_type": "code",
      "source": [
        "class Number:\n",
        "    def __init__(self, value, float_value):\n",
        "        self.value = value\n",
        "        self.float_value = float_value\n",
        "\n",
        "    def fig(self):\n",
        "        print(\"State the value of the figure\")\n",
        "\n",
        "\n",
        "class Integer(Number):\n",
        "    def __init__(self, value, float_value):\n",
        "        super().__init__(value, float_value)\n",
        "        self.is_positive = value > 0\n",
        "\n",
        "\n",
        "my_integer = Integer(45, 3.142)\n",
        "print(my_integer.value)\n",
        "print(my_integer.float_value)\n",
        "print(my_integer.is_positive)"
      ],
      "metadata": {
        "id": "UInozdLhWwk5",
        "outputId": "4d135bf0-86e0-4998-e950-d272413479d3",
        "colab": {
          "base_uri": "https://localhost:8080/"
        }
      },
      "execution_count": 1,
      "outputs": [
        {
          "output_type": "stream",
          "name": "stdout",
          "text": [
            "45\n",
            "3.142\n",
            "True\n"
          ]
        }
      ]
    }
  ]
}