{
  "nbformat": 4,
  "nbformat_minor": 0,
  "metadata": {
    "colab": {
      "provenance": [],
      "authorship_tag": "ABX9TyOZVm0hVK6eOxUAkFqFIBg7",
      "include_colab_link": true
    },
    "kernelspec": {
      "name": "python3",
      "display_name": "Python 3"
    },
    "language_info": {
      "name": "python"
    }
  },
  "cells": [
    {
      "cell_type": "markdown",
      "metadata": {
        "id": "view-in-github",
        "colab_type": "text"
      },
      "source": [
        "<a href=\"https://colab.research.google.com/github/ONYEMAH-ALEXANDER/Google-colab/blob/main/Lex.ipynb\" target=\"_parent\"><img src=\"https://colab.research.google.com/assets/colab-badge.svg\" alt=\"Open In Colab\"/></a>"
      ]
    },
    {
      "cell_type": "code",
      "source": [
        "class Vehicle:\n",
        "    def __init__(self,model,color):\n",
        "        self.model = model\n",
        "        self.color = color\n",
        "my_vehicle = Vehicle(\"benz\",\"red\")\n",
        "print(my_vehicle.model)\n",
        "print(my_vehicle.color)"
      ],
      "metadata": {
        "colab": {
          "base_uri": "https://localhost:8080/"
        },
        "id": "n_ukRFlqvwOL",
        "outputId": "abc4914c-67e4-4b7b-bf61-0cb8e9cf7bbf"
      },
      "execution_count": null,
      "outputs": [
        {
          "output_type": "stream",
          "name": "stdout",
          "text": [
            "benz\n",
            "red\n"
          ]
        }
      ]
    },
    {
      "cell_type": "markdown",
      "source": [
        "# New Section"
      ],
      "metadata": {
        "id": "q0mTDasROaYk"
      }
    },
    {
      "cell_type": "markdown",
      "source": [
        "# New Section"
      ],
      "metadata": {
        "id": "IKA6q9aGObEL"
      }
    },
    {
      "cell_type": "code",
      "source": [
        "class Person:\n",
        "  def __init__(self, fname, lname):\n",
        "    self.firstname = fname\n",
        "    self.lastname = lname\n",
        "\n",
        "  def printname(self):\n",
        "    print(self.firstname, self.lastname)\n",
        "\n",
        "class Student(Person):\n",
        "  def __init__(self, fname, lname, year):\n",
        "    super().__init__(fname, lname)\n",
        "    self.graduationyear = year\n",
        "\n",
        "x = Student(\"Mike\", \"Olsen\", 2019)\n",
        "print(x.graduationyear)\n"
      ],
      "metadata": {
        "colab": {
          "base_uri": "https://localhost:8080/"
        },
        "id": "nopbiiHewOLm",
        "outputId": "41de7916-71fc-4678-ceb4-312116e48a83"
      },
      "execution_count": null,
      "outputs": [
        {
          "output_type": "stream",
          "name": "stdout",
          "text": [
            "2019\n"
          ]
        }
      ]
    },
    {
      "cell_type": "markdown",
      "source": [
        "Create a set my_set containing the elements 1, 2, 3, 4, and 5, and then remove the element 3."
      ],
      "metadata": {
        "id": "MHZgxWWMnkJW"
      }
    },
    {
      "cell_type": "code",
      "source": [
        "my_set = {1,2,3,4,5}\n",
        "my_set.remove(3)\n",
        "print(my_set)\n",
        "\n",
        "my_set = {1, 2, 3, 4, 5}\n",
        "my_set.discard(3)\n",
        "print(my_set)"
      ],
      "metadata": {
        "colab": {
          "base_uri": "https://localhost:8080/"
        },
        "id": "qzAbBRySnqSD",
        "outputId": "5154414b-b063-4b2e-8f71-81d5277253dd"
      },
      "execution_count": null,
      "outputs": [
        {
          "output_type": "stream",
          "name": "stdout",
          "text": [
            "{1, 2, 4, 5}\n",
            "{1, 2, 4, 5}\n"
          ]
        }
      ]
    },
    {
      "cell_type": "markdown",
      "source": [
        "Create a set my_set containing the elements 1, 2, 3, 4, and 5."
      ],
      "metadata": {
        "id": "OUDzpQ_mnxjG"
      }
    },
    {
      "cell_type": "code",
      "source": [
        "my_set = {1,2,3,4,5}\n",
        "print(my_set)"
      ],
      "metadata": {
        "colab": {
          "base_uri": "https://localhost:8080/"
        },
        "id": "CsC0bhI9n16V",
        "outputId": "6c3b3236-f391-4a8f-c495-f7791ca214bd"
      },
      "execution_count": null,
      "outputs": [
        {
          "output_type": "stream",
          "name": "stdout",
          "text": [
            "{1, 2, 3, 4, 5}\n"
          ]
        }
      ]
    },
    {
      "cell_type": "markdown",
      "source": [
        "Create a set my_set containing the elements 1, 2, 3, 4, and 5, and then add the element 6."
      ],
      "metadata": {
        "id": "Mb_J7WZDoRiB"
      }
    },
    {
      "cell_type": "code",
      "source": [
        "my_set =  {1,2,3,4,5}\n",
        "my_set.add(6)\n",
        "print(my_set)"
      ],
      "metadata": {
        "colab": {
          "base_uri": "https://localhost:8080/"
        },
        "id": "x8Q7NixKoZga",
        "outputId": "2f8565f9-6c59-4739-fb8a-e2a33c98b974"
      },
      "execution_count": null,
      "outputs": [
        {
          "output_type": "stream",
          "name": "stdout",
          "text": [
            "{1, 2, 3, 4, 5, 6}\n"
          ]
        }
      ]
    },
    {
      "cell_type": "markdown",
      "source": [
        "Create a list of numbers numbers = [1, 2, 3, 4, 5] and access the first item."
      ],
      "metadata": {
        "id": "JmV08QAeodXf"
      }
    },
    {
      "cell_type": "code",
      "source": [
        "numbers = [1, 2, 3, 4, 5]\n",
        "print(numbers[0])"
      ],
      "metadata": {
        "colab": {
          "base_uri": "https://localhost:8080/"
        },
        "id": "PyyIjT_goj5a",
        "outputId": "49fd40c6-6b16-4af8-f15b-951e559351ba"
      },
      "execution_count": null,
      "outputs": [
        {
          "output_type": "stream",
          "name": "stdout",
          "text": [
            "1\n"
          ]
        }
      ]
    },
    {
      "cell_type": "markdown",
      "source": [
        "Access the item at index -1 of the list numbers = [1, 2, 3, 4, 5]."
      ],
      "metadata": {
        "id": "1zLNrW9-pNV7"
      }
    },
    {
      "cell_type": "code",
      "source": [
        "numbers = [1, 2, 3, 4, 5]\n",
        "print(numbers[-1])"
      ],
      "metadata": {
        "colab": {
          "base_uri": "https://localhost:8080/"
        },
        "id": "34AZr5aLpOVO",
        "outputId": "d0ffc838-4079-4589-8f18-68ed1cd113b5"
      },
      "execution_count": null,
      "outputs": [
        {
          "output_type": "stream",
          "name": "stdout",
          "text": [
            "5\n"
          ]
        }
      ]
    },
    {
      "cell_type": "markdown",
      "source": [
        "Create a list of numbers numbers = [1, 2, 3, 4, 5] and access the first three items."
      ],
      "metadata": {
        "id": "3diGqwNQpVKL"
      }
    },
    {
      "cell_type": "code",
      "source": [
        "numbers = [1, 2, 3, 4, 5]\n",
        "number = numbers[0:3]\n",
        "print(number)"
      ],
      "metadata": {
        "colab": {
          "base_uri": "https://localhost:8080/"
        },
        "id": "3l_mjNXapV-T",
        "outputId": "0a4e00c0-4276-4af9-9672-9fae265c7e84"
      },
      "execution_count": null,
      "outputs": [
        {
          "output_type": "stream",
          "name": "stdout",
          "text": [
            "[1, 2, 3]\n"
          ]
        }
      ]
    },
    {
      "cell_type": "markdown",
      "source": [
        "# Given a dictionary person = {\"name\": \"John\"},\n",
        "#  access and print the value of \"name\"."
      ],
      "metadata": {
        "id": "nm-gT-ZnOe19"
      }
    },
    {
      "cell_type": "code",
      "source": [
        "person = {\"name\":\"John\"}\n",
        "print(person[\"name\"])"
      ],
      "metadata": {
        "colab": {
          "base_uri": "https://localhost:8080/"
        },
        "id": "7v5kkRNLOm6k",
        "outputId": "63a967fc-3a96-4e5a-86bf-11daf3d4beb3"
      },
      "execution_count": 1,
      "outputs": [
        {
          "output_type": "stream",
          "name": "stdout",
          "text": [
            "John\n"
          ]
        }
      ]
    }
  ]
}