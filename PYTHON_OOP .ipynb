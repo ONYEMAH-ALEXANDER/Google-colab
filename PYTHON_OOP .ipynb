{
  "nbformat": 4,
  "nbformat_minor": 0,
  "metadata": {
    "colab": {
      "provenance": [],
      "include_colab_link": true
    },
    "kernelspec": {
      "name": "python3",
      "display_name": "Python 3"
    },
    "language_info": {
      "name": "python"
    }
  },
  "cells": [
    {
      "cell_type": "markdown",
      "metadata": {
        "id": "view-in-github",
        "colab_type": "text"
      },
      "source": [
        "<a href=\"https://colab.research.google.com/github/ONYEMAH-ALEXANDER/Google-colab/blob/main/PYTHON_OOP%20.ipynb\" target=\"_parent\"><img src=\"https://colab.research.google.com/assets/colab-badge.svg\" alt=\"Open In Colab\"/></a>"
      ]
    },
    {
      "cell_type": "markdown",
      "source": [],
      "metadata": {
        "id": "FiesXRFWpfzp"
      }
    },
    {
      "cell_type": "markdown",
      "source": [
        "1.Create an object from the Rectangle class with width 10 and height 20."
      ],
      "metadata": {
        "id": "4w8Y3kBQphLm"
      }
    },
    {
      "cell_type": "code",
      "source": [
        "class Rectangle:\n",
        "    def __init__(self,width,height):\n",
        "        self.width = width\n",
        "        self.height = height\n",
        "\n",
        "my_rectangle = Rectangle(10,20)\n",
        "print(my_rectangle.width)\n",
        "print(my_rectangle.height)"
      ],
      "metadata": {
        "colab": {
          "base_uri": "https://localhost:8080/"
        },
        "id": "xFsnq6WKpmif",
        "outputId": "5c7b584b-e20f-42cf-886d-a7c07570cd34"
      },
      "execution_count": null,
      "outputs": [
        {
          "output_type": "stream",
          "name": "stdout",
          "text": [
            "10\n",
            "20\n"
          ]
        }
      ]
    },
    {
      "cell_type": "markdown",
      "source": [
        "2.Create a class BankAccount with a starting balance of 1000. Write a method to deposit 500 and check the new balance."
      ],
      "metadata": {
        "id": "3G48D_szEDyr"
      }
    },
    {
      "cell_type": "code",
      "source": [
        "class BankAccount:\n",
        "    def __init__(self, balance=1000):\n",
        "        self.balance = balance\n",
        "\n",
        "    def deposit(self, amount):\n",
        "        self.balance += amount\n",
        "\n",
        "    def get_balance(self):\n",
        "        return self.balance\n",
        "\n",
        "account = BankAccount()\n",
        "print(\"Initial balance:\", account.get_balance())\n",
        "\n",
        "account.deposit(500)\n",
        "print(\"New balance:\", account.get_balance())"
      ],
      "metadata": {
        "colab": {
          "base_uri": "https://localhost:8080/"
        },
        "id": "Ndix_tsCEQTP",
        "outputId": "c7370a8f-f13d-40aa-f150-7a691dac4684"
      },
      "execution_count": null,
      "outputs": [
        {
          "output_type": "stream",
          "name": "stdout",
          "text": [
            "Initial balance: 1000\n",
            "New balance: 1500\n"
          ]
        }
      ]
    },
    {
      "cell_type": "markdown",
      "source": [
        "3• Create a class Employee with attributes for name, salary, and bonus. Write a method to calculate the total salary including the bonus."
      ],
      "metadata": {
        "id": "tXn99gqyM8eN"
      }
    },
    {
      "cell_type": "code",
      "source": [
        "class Employee:\n",
        "    def __init__(self, name, salary, bonus):\n",
        "        self.name = name\n",
        "        self.salary = salary\n",
        "        self.bonus = bonus\n",
        "\n",
        "    def total_salary(self):\n",
        "        return self.salary + self.bonus\n",
        "\n",
        "employee = Employee(\"Alex\", 25000, 6000)\n",
        "total = employee.total_salary()\n",
        "print(f\"Total salary for {employee.name}: {total}\")"
      ],
      "metadata": {
        "colab": {
          "base_uri": "https://localhost:8080/"
        },
        "id": "AWmr5zz5NFUi",
        "outputId": "a0dc732d-1e39-4600-bf2d-6861e729c718"
      },
      "execution_count": null,
      "outputs": [
        {
          "output_type": "stream",
          "name": "stdout",
          "text": [
            "Total salary for Alex: 31000\n"
          ]
        }
      ]
    }
  ]
}